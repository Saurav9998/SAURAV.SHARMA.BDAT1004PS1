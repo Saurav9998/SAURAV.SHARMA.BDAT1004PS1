{
 "cells": [
  {
   "cell_type": "markdown",
   "id": "20e2fb55",
   "metadata": {},
   "source": [
    "# Question 1\n",
    "What data type is each of the following?\n",
    "5\n",
    "5.0\n",
    "5 > 1\n",
    "'5'\n",
    "5 * 2\n",
    "'5' * 2\n",
    "'5' + '2'\n",
    "5 / 2\n",
    "5 % 2\n",
    "{5, 2, 1}\n",
    "5 == 3\n",
    "Pi (the number)\n",
    "\n",
    "    "
   ]
  },
  {
   "cell_type": "markdown",
   "id": "e68b8393",
   "metadata": {},
   "source": [
    "Answer-: \n",
    "5          = It is an integer data type.\n",
    "5.0        = 0 , It is also an integer data type.\n",
    "5 > 1      = True, It is a bollean expression of integer data type which gives output in character(char) data type.\n",
    "'5'        = It is a character data type.\n",
    "5*2        = 10, It is an integer data type.\n",
    "'5' * 2    = multiplication of a string with number is alwayas a string. Therefore it is a string data dype.\n",
    "'5' + '2'  = addition of two character is a string.Therefore it is a string data dype.\n",
    "5 / 2      = 2 , It is an integer data type.\n",
    "5 % 2      = 1 , It is an integer data type.\n",
    "{5,2,1}    = It's an array of integer data type\n",
    "5 == 3     =False , It is a bollean expression of integer data type which gives output in character(char) data type.\n",
    "Pi (the number) =3.142857142857143, It is a double data type according to its range"
   ]
  },
  {
   "cell_type": "markdown",
   "id": "6ab82a2b",
   "metadata": {},
   "source": [
    "# Question 2\n",
    "Write (and evaluate) C# expressions that answer these questions:\n",
    "a. How many letters are there in 'Supercalifragilisticexpialidocious'?\n",
    "b. Does 'Supercalifragilisticexpialidocious' contain 'ice' as a substring?\n",
    "c. Which of the following words is the longest:\n",
    "Supercalifragilisticexpialidocious, Honorificabilitudinitatibus, or\n",
    "Bababadalgharaghtakamminarronnkonn?\n",
    "d. Which composer comes first in the dictionary: 'Berlioz', 'Borodin', 'Brian',\n",
    "'Bartok', 'Bellini', 'Buxtehude', 'Bernstein'. Which one comes last?"
   ]
  },
  {
   "cell_type": "code",
   "execution_count": 7,
   "id": "0b0ee051",
   "metadata": {},
   "outputs": [
    {
     "name": "stdout",
     "output_type": "stream",
     "text": [
      "Number of letters are =34\r\n"
     ]
    }
   ],
   "source": [
    "//Answer- a:\n",
    "public class Count\n",
    "{ public void Getcount(string str)\n",
    "   { int count=0;\n",
    "      foreach(char c in str)\n",
    "      {count = count +1;\n",
    "      }\n",
    "      Console.WriteLine(\"Number of letters are =\"+count);\n",
    "      }\n",
    " }\n",
    " Count cc=new Count();\n",
    " cc.Getcount(\"Supercalifragilisticexpialidocious\");"
   ]
  },
  {
   "cell_type": "code",
   "execution_count": 8,
   "id": "e44423eb",
   "metadata": {},
   "outputs": [
    {
     "name": "stdout",
     "output_type": "stream",
     "text": [
      "'ice' is a subring of 'Supercalifragilisticexpialidocious'\r\n"
     ]
    }
   ],
   "source": [
    " //Answer- b:\n",
    "string s1 = \"Supercalifragilisticexpialidocious\";\n",
    "string s2 = \"ice\";\n",
    "if(s1.Contains(s2))              //returns a value indicating a specified sub-string\n",
    "{\n",
    "Console.WriteLine(\"'ice' is a subring of 'Supercalifragilisticexpialidocious'\");\n",
    "}\n",
    "else\n",
    "{\n",
    "Console.WriteLine(\"'ice' is not a subring of 'Supercalifragilisticexpialidocious'\");\n",
    " }\n"
   ]
  },
  {
   "cell_type": "code",
   "execution_count": 9,
   "id": "4c4384ac",
   "metadata": {},
   "outputs": [
    {
     "name": "stdout",
     "output_type": "stream",
     "text": [
      "'Bababadalgharaghtakamminarronnkonn' is longest\r\n"
     ]
    }
   ],
   "source": [
    "//Answer- c:\n",
    "int count1=0;\n",
    "int count2=0;\n",
    "int count3=0;\n",
    "string a=\"Supercalifragilisticexpialidocious\";\n",
    "string b=\"Honorificabilitudinitatibus\";\n",
    "string c=\"Bababadalgharaghtakamminarronnkonn\";\n",
    "foreach(char C in a)\n",
    "{ \n",
    "count1++; \n",
    "}\n",
    "foreach(char C in b)\n",
    "{ \n",
    "count2++; \n",
    "}\n",
    "foreach(char C in c)\n",
    "{ \n",
    "count3++; \n",
    "}\n",
    "if (count1>count2)\n",
    "{ if(count1>count3)\n",
    "   {\n",
    "   Console.WriteLine(\"'Supercalifragilisticexpialidocious' is greatest\");\n",
    "   }\n",
    " else\n",
    " {\n",
    "Console.WriteLine(\"'Bababadalgharaghtakamminarronnkonn' is longest\");\n",
    "}\n",
    "}\n",
    "else\n",
    "{Console.WriteLine(\"'Honorificabilitudinitatibus' is longest\");\n",
    "}"
   ]
  },
  {
   "cell_type": "code",
   "execution_count": 6,
   "id": "343dabfa",
   "metadata": {},
   "outputs": [
    {
     "name": "stdout",
     "output_type": "stream",
     "text": [
      "composer that comes FIRST in the dictionary is = Bartok\n",
      "composer that comes LAST in the dictionary is = Buxtehude\n"
     ]
    }
   ],
   "source": [
    "//Answer- d:\n",
    "// A dictionary is usually sorted in alphabatical order. \n",
    "//Therefore we are sortng composers given in question according inthat order using a list\n",
    "var composer = new List<string>();\n",
    "composer.Add(\"Berlioz\");\n",
    "composer.Add(\"Borodin\");\n",
    "composer.Add(\"Brain\");\n",
    "composer.Add(\"Bartok\");\n",
    "composer.Add(\"Bellini\");\n",
    "composer.Add(\"Buxtehude\");\n",
    "composer.Add(\"Bernstein\");\n",
    "composer.Sort();                             //https://zetcode.com/csharp/sortlist/\n",
    "Console.WriteLine(\"composer that comes FIRST in the dictionary is = \" + composer[0]);\n",
    "Console.WriteLine(\"composer that comes LAST in the dictionary is = \" + composer[6]);\n",
    "\n"
   ]
  },
  {
   "cell_type": "markdown",
   "id": "1d9f5108",
   "metadata": {},
   "source": [
    "# Question 3\n",
    "Implement function triangleArea(a,b,c) that takes as input the lengths of the 3\n",
    "sides of a triangle and returns the area of the triangle. By Heron's formula, the area\n",
    "of a triangle with side lengths a, b, and c is\n",
    "s(s - a)(s -b)(s -c)\n",
    ", where\n",
    "s = (a+b+c)/2."
   ]
  },
  {
   "cell_type": "code",
   "execution_count": 10,
   "id": "3eace218",
   "metadata": {},
   "outputs": [
    {
     "name": "stdout",
     "output_type": "stream",
     "text": [
      "Area of Triangle is = 1.7320508075688772\r\n"
     ]
    }
   ],
   "source": [
    "//Answer-: \n",
    "public class Area\n",
    "{ public void triangleArea(int a,int b,int c)\n",
    " { float s=(a+b+c)/2;\n",
    "   float z=s*(s-a)*(s-b)*(s-c);\n",
    "   double area= Math.Sqrt(z);  //https://www.geeksforgeeks.org/c-sharp-math-sqrt-method/\n",
    "   Console.WriteLine(\"Area of Triangle is = \"+area);\n",
    "   }\n",
    "}\n",
    "Area A=new Area();\n",
    "A.triangleArea(2,2,2);"
   ]
  },
  {
   "cell_type": "markdown",
   "id": "502b335e",
   "metadata": {},
   "source": [
    "# Question 4\n",
    "Write a program in C# Sharp to separate odd and even integers in separate arrays."
   ]
  },
  {
   "cell_type": "code",
   "execution_count": 11,
   "id": "6b6acb2a",
   "metadata": {},
   "outputs": [
    {
     "name": "stdout",
     "output_type": "stream",
     "text": [
      "The Even elements are : \n",
      "42\n",
      "56\n",
      "32\n",
      "\n",
      "The Odd elements are :\n",
      "25\n",
      "47\n"
     ]
    }
   ],
   "source": [
    "//Answer-:\n",
    "int[] a = { 25, 47, 42, 56, 32 };\n",
    "int[] arr1 = new int[5];\n",
    "int[] arr2 = new int[5];\n",
    "int j = 0, k = 0;\n",
    "for (int i = 0; i < 5; i++)\n",
    "{\n",
    "    if (a[i] % 2 == 0)\n",
    "    {\n",
    "        arr1[j] = a[i];\n",
    "        j++;\n",
    "    }\n",
    "    else\n",
    "    {\n",
    "        arr2[k] = a[i];\n",
    "        k++;\n",
    "    }\n",
    "}\n",
    "Console.Write(\"The Even elements are : \\n\");\n",
    "int num = 0;\n",
    "while (num < j)\n",
    "{\n",
    "    Console.Write(arr1[num]+ \"\\n\");\n",
    "    num++;\n",
    "}\n",
    "\n",
    "Console.Write(\"\\nThe Odd elements are :\\n\");\n",
    "int numb = 0;\n",
    "while(numb < k)\n",
    "    {\n",
    "    Console.Write(arr2[numb]+ \"\\n\");\n",
    "    numb++;\n",
    "}"
   ]
  },
  {
   "cell_type": "markdown",
   "id": "a0d20baa",
   "metadata": {},
   "source": [
    "# Question 5\n",
    "a. Write a function inside(x,y,x1,y1,x2,y2) that returns True or False\n",
    "depending on whether the point (x,y) lies in the rectangle with lower left\n",
    "corner (x1,y1) and upper right corner (x2,y2).\n",
    ">>> inside(1,1,0,0,2,3)\n",
    "True\n",
    ">>> inside(-1,-1,0,0,2,3)\n",
    "False\n",
    "b. Use function inside() from part a. to write an expression that tests whether\n",
    "the point (1,1) lies in both of the following rectangles: one with lower left\n",
    "corner (0.3, 0.5) and upper right corner (1.1, 0.7) and the other with lower\n",
    "left corner (0.5, 0.2) and upper right corner (1.1, 2). \n"
   ]
  },
  {
   "cell_type": "code",
   "execution_count": 16,
   "id": "15cea839",
   "metadata": {},
   "outputs": [
    {
     "name": "stdout",
     "output_type": "stream",
     "text": [
      "True\n",
      "False\n",
      "\n",
      "Answer for b\n",
      "False\n",
      "True\n"
     ]
    }
   ],
   "source": [
    "//Answer-: a:\n",
    "static bool inside(double x, double y, double x1, double y1, double y2, double x2)\n",
    "{\n",
    "    if (x > x1 && x < x2 && y > y1 && y < y2)\n",
    "        return true;\n",
    "    else\n",
    "        return false;\n",
    " }\n",
    "Console.WriteLine(inside(1, 1, 0, 0, 2, 3));\n",
    "Console.WriteLine(inside(-1,-1,0,0,2,3));\n",
    "Console.WriteLine(\"\\nAnswer for b\"); //for creating space beteen outputs\n",
    "//Answer- b:\n",
    "Console.WriteLine(inside(1, 1, 0.3, 0.5, 1.1, 0.7));\n",
    "Console.WriteLine(inside(1,1,0.5,0.2,1.1,2));\n",
    "\n"
   ]
  },
  {
   "cell_type": "markdown",
   "id": "ca859527",
   "metadata": {},
   "source": [
    "# Question 6\n",
    "Write a function pig() that takes a word (i.e., a string) as input and returns its pigLatin form. Your function should still work if the input word contains upper case\n",
    "characters. Your output should always be lower case however."
   ]
  },
  {
   "cell_type": "code",
   "execution_count": 24,
   "id": "7e5a999a",
   "metadata": {},
   "outputs": [
    {
     "name": "stdout",
     "output_type": "stream",
     "text": [
      "appyhay\n",
      "enterway\n"
     ]
    }
   ],
   "source": [
    "#Answer-:\n",
    "def pig(a):\n",
    "    a=a.lower()\n",
    "    if (a[0] == 'a' or a[0]=='e' or a[0]=='i' or a[0]=='o' or a[0]=='u'):    #did first for vowels to make it easy\n",
    "        piglatin=a+\"way\"\n",
    "        print(piglatin)\n",
    "    else:\n",
    "        piglatin=a[1:] + a[0] + \"ay\"\n",
    "        print(piglatin)\n",
    "pig('happy')\n",
    "pig('Enter')\n",
    "        "
   ]
  },
  {
   "cell_type": "markdown",
   "id": "7284f916",
   "metadata": {},
   "source": [
    "# Question 7\n",
    "Write a function bldcount() that reads the file with name name and reports"
   ]
  },
  {
   "cell_type": "code",
   "execution_count": 74,
   "id": "c664655d",
   "metadata": {},
   "outputs": [
    {
     "name": "stdout",
     "output_type": "stream",
     "text": [
      "There are 15 paitents of blood type A\n",
      "there is one patient of blood type B\n",
      "There are 13 paitents of blood type AB\n",
      "There are 15 paitents of blood type O\n",
      "there are no patients of blood type OO\n"
     ]
    }
   ],
   "source": [
    "#Answer-:\n",
    "def bldcount(b):\n",
    "    file = open(b)\n",
    "\n",
    "    name = file.read()\n",
    "    file.close()\n",
    "    name =name.split()                           #s.split(sep)\treturns list of substrings of s, delimited by sep\n",
    "    bloodgroups= ['A','B','AB','O','OO']\n",
    "    for i in bloodgroups:\n",
    "        if name.count(i)==0:                         #s.count(target)\treturns the number of occurences of target in s\n",
    "            print(\"there are no patients of blood type\",i)\n",
    "        elif name.count(i)==1:\n",
    "            print(\"there is one patient of blood type\",i)\n",
    "        else:\n",
    "            print(\"There are\",name.count(i),\"paitents of blood type\",i)\n",
    "    \n",
    "bldcount(\"bloodtype1.txt\")"
   ]
  },
  {
   "cell_type": "markdown",
   "id": "f7d766bb",
   "metadata": {},
   "source": [
    "# Question 8\n",
    "Write a function curconv() that takes as input:\n",
    "1. a currency represented using a string (e.g., 'JPY' for the Japanese Yen or\n",
    "'EUR' for the Euro)\n",
    "2. an amount\n",
    "and then converts and returns the amount in US dollars."
   ]
  },
  {
   "cell_type": "code",
   "execution_count": 52,
   "id": "be514495",
   "metadata": {},
   "outputs": [
    {
     "name": "stdout",
     "output_type": "stream",
     "text": [
      "122.96544\n",
      "1.241401\n"
     ]
    }
   ],
   "source": [
    "#Answer-:\n",
    "def curconv(currency,amount):\n",
    "    file=open('currencies.txt','r')\n",
    "    A=file.readlines()\n",
    "    file.close()\n",
    "    for i in A:\n",
    "        if currency ==i.split()[0]:\n",
    "            return float(i.split()[1])*amount\n",
    "print(curconv('EUR',100))\n",
    "print(curconv('JPY',100))"
   ]
  },
  {
   "cell_type": "markdown",
   "id": "284b6e44",
   "metadata": {},
   "source": [
    "# Question 9\n",
    "Each of the following will cause an exception (an error). Identify what type of\n",
    "exception each will cause.\n",
    "Trying to add incompatible variables, as in\n",
    "adding 6 + ‘a’\n",
    "Referring to the 12th item of a list that has only 10\n",
    "items\n",
    "Using a value that is out of range for a function’s\n",
    "input, such as calling math.sqrt(-1.0)\n",
    "Using an undeclared variable, such as print(x)\n",
    "when x has not been defined\n",
    "Trying to open a file that does not exist, such as\n",
    "mistyping the file name or looking in the wrong\n",
    "directory. \n"
   ]
  },
  {
   "cell_type": "code",
   "execution_count": 53,
   "id": "61b620a0",
   "metadata": {},
   "outputs": [
    {
     "ename": "TypeError",
     "evalue": "unsupported operand type(s) for +: 'int' and 'str'",
     "output_type": "error",
     "traceback": [
      "\u001b[1;31m---------------------------------------------------------------------------\u001b[0m",
      "\u001b[1;31mTypeError\u001b[0m                                 Traceback (most recent call last)",
      "\u001b[1;32mC:\\Users\\SAURAV~1\\AppData\\Local\\Temp/ipykernel_21252/948439642.py\u001b[0m in \u001b[0;36m<module>\u001b[1;34m\u001b[0m\n\u001b[0;32m      1\u001b[0m \u001b[1;31m#Answer-:\u001b[0m\u001b[1;33m\u001b[0m\u001b[1;33m\u001b[0m\u001b[0m\n\u001b[1;32m----> 2\u001b[1;33m \u001b[1;36m6\u001b[0m \u001b[1;33m+\u001b[0m\u001b[1;34m'a'\u001b[0m\u001b[1;33m\u001b[0m\u001b[1;33m\u001b[0m\u001b[0m\n\u001b[0m",
      "\u001b[1;31mTypeError\u001b[0m: unsupported operand type(s) for +: 'int' and 'str'"
     ]
    }
   ],
   "source": [
    "#Answer-:\n",
    "6 +'a'\n"
   ]
  },
  {
   "cell_type": "code",
   "execution_count": 54,
   "id": "918e32a0",
   "metadata": {},
   "outputs": [
    {
     "ename": "IndexError",
     "evalue": "list index out of range",
     "output_type": "error",
     "traceback": [
      "\u001b[1;31m---------------------------------------------------------------------------\u001b[0m",
      "\u001b[1;31mIndexError\u001b[0m                                Traceback (most recent call last)",
      "\u001b[1;32mC:\\Users\\SAURAV~1\\AppData\\Local\\Temp/ipykernel_21252/1186136394.py\u001b[0m in \u001b[0;36m<module>\u001b[1;34m\u001b[0m\n\u001b[0;32m      1\u001b[0m \u001b[0mlst\u001b[0m \u001b[1;33m=\u001b[0m \u001b[1;33m[\u001b[0m\u001b[1;36m0\u001b[0m\u001b[1;33m,\u001b[0m\u001b[1;36m1\u001b[0m\u001b[1;33m,\u001b[0m\u001b[1;36m2\u001b[0m\u001b[1;33m,\u001b[0m\u001b[1;36m3\u001b[0m\u001b[1;33m,\u001b[0m\u001b[1;36m4\u001b[0m\u001b[1;33m,\u001b[0m\u001b[1;36m5\u001b[0m\u001b[1;33m,\u001b[0m\u001b[1;36m6\u001b[0m\u001b[1;33m,\u001b[0m\u001b[1;36m7\u001b[0m\u001b[1;33m,\u001b[0m\u001b[1;36m8\u001b[0m\u001b[1;33m,\u001b[0m\u001b[1;36m9\u001b[0m\u001b[1;33m]\u001b[0m\u001b[1;33m\u001b[0m\u001b[1;33m\u001b[0m\u001b[0m\n\u001b[1;32m----> 2\u001b[1;33m \u001b[0mprint\u001b[0m\u001b[1;33m(\u001b[0m\u001b[0mlst\u001b[0m\u001b[1;33m[\u001b[0m\u001b[1;36m12\u001b[0m\u001b[1;33m]\u001b[0m\u001b[1;33m)\u001b[0m\u001b[1;33m\u001b[0m\u001b[1;33m\u001b[0m\u001b[0m\n\u001b[0m",
      "\u001b[1;31mIndexError\u001b[0m: list index out of range"
     ]
    }
   ],
   "source": [
    "lst = [0,1,2,3,4,5,6,7,8,9]\n",
    "print(lst[12])"
   ]
  },
  {
   "cell_type": "code",
   "execution_count": 56,
   "id": "6bb8168e",
   "metadata": {},
   "outputs": [
    {
     "ename": "ValueError",
     "evalue": "math domain error",
     "output_type": "error",
     "traceback": [
      "\u001b[1;31m---------------------------------------------------------------------------\u001b[0m",
      "\u001b[1;31mValueError\u001b[0m                                Traceback (most recent call last)",
      "\u001b[1;32mC:\\Users\\SAURAV~1\\AppData\\Local\\Temp/ipykernel_21252/3755102649.py\u001b[0m in \u001b[0;36m<module>\u001b[1;34m\u001b[0m\n\u001b[0;32m      1\u001b[0m \u001b[1;32mimport\u001b[0m \u001b[0mmath\u001b[0m\u001b[1;33m\u001b[0m\u001b[1;33m\u001b[0m\u001b[0m\n\u001b[1;32m----> 2\u001b[1;33m \u001b[0mprint\u001b[0m\u001b[1;33m(\u001b[0m\u001b[0mmath\u001b[0m\u001b[1;33m.\u001b[0m\u001b[0msqrt\u001b[0m\u001b[1;33m(\u001b[0m\u001b[1;33m-\u001b[0m\u001b[1;36m1.0\u001b[0m\u001b[1;33m)\u001b[0m\u001b[1;33m)\u001b[0m\u001b[1;33m\u001b[0m\u001b[1;33m\u001b[0m\u001b[0m\n\u001b[0m",
      "\u001b[1;31mValueError\u001b[0m: math domain error"
     ]
    }
   ],
   "source": [
    "import math\n",
    "print(math.sqrt(-1.0))"
   ]
  },
  {
   "cell_type": "code",
   "execution_count": 57,
   "id": "eaba881f",
   "metadata": {},
   "outputs": [
    {
     "ename": "NameError",
     "evalue": "name 's' is not defined",
     "output_type": "error",
     "traceback": [
      "\u001b[1;31m---------------------------------------------------------------------------\u001b[0m",
      "\u001b[1;31mNameError\u001b[0m                                 Traceback (most recent call last)",
      "\u001b[1;32mC:\\Users\\SAURAV~1\\AppData\\Local\\Temp/ipykernel_21252/926740265.py\u001b[0m in \u001b[0;36m<module>\u001b[1;34m\u001b[0m\n\u001b[1;32m----> 1\u001b[1;33m \u001b[0mprint\u001b[0m\u001b[1;33m(\u001b[0m\u001b[0ms\u001b[0m\u001b[1;33m)\u001b[0m\u001b[1;33m\u001b[0m\u001b[1;33m\u001b[0m\u001b[0m\n\u001b[0m",
      "\u001b[1;31mNameError\u001b[0m: name 's' is not defined"
     ]
    }
   ],
   "source": [
    "print(s)"
   ]
  },
  {
   "cell_type": "code",
   "execution_count": 59,
   "id": "94abd70f",
   "metadata": {},
   "outputs": [
    {
     "ename": "FileNotFoundError",
     "evalue": "[Errno 2] No such file or directory: 'bloodtype2.txt'",
     "output_type": "error",
     "traceback": [
      "\u001b[1;31m---------------------------------------------------------------------------\u001b[0m",
      "\u001b[1;31mFileNotFoundError\u001b[0m                         Traceback (most recent call last)",
      "\u001b[1;32mC:\\Users\\SAURAV~1\\AppData\\Local\\Temp/ipykernel_21252/185139100.py\u001b[0m in \u001b[0;36m<module>\u001b[1;34m\u001b[0m\n\u001b[1;32m----> 1\u001b[1;33m \u001b[0mopen\u001b[0m\u001b[1;33m(\u001b[0m\u001b[1;34m'bloodtype2.txt'\u001b[0m\u001b[1;33m)\u001b[0m\u001b[1;33m\u001b[0m\u001b[1;33m\u001b[0m\u001b[0m\n\u001b[0m",
      "\u001b[1;31mFileNotFoundError\u001b[0m: [Errno 2] No such file or directory: 'bloodtype2.txt'"
     ]
    }
   ],
   "source": [
    "open('bloodtype2.txt')"
   ]
  },
  {
   "cell_type": "markdown",
   "id": "679f595e",
   "metadata": {},
   "source": [
    "# Question 10\n",
    "Encryption is the process of hiding the meaning of a text by substituting letters in the\n",
    "message with other letters, according to some system. If the process is successful, no\n",
    "one but the intended recipient can understand the encrypted message. Cryptanalysis\n",
    "refers to attempts to undo the encryption, even if some details of the encryption are\n",
    "unknown (for example, if an encrypted message has been intercepted). The first step\n",
    "of cryptanalysis is often to build up a table of letter frequencies in the encrypted text.\n",
    "Assume that the string letters is already defined as\n",
    "'abcdefghijklmnopqrstuvwxyz'. Write a function called frequencies()\n",
    "that takes a string as its only parameter, and returns a list of integers, showing the\n",
    "number of times each character appears in the text. Your function may ignore any\n",
    "characters that are not in letters."
   ]
  },
  {
   "cell_type": "code",
   "execution_count": 72,
   "id": "d27c859b",
   "metadata": {},
   "outputs": [
    {
     "name": "stdout",
     "output_type": "stream",
     "text": [
      "[1, 1, 1, 3, 5, 1, 1, 2, 1, 0, 1, 0, 1, 2, 4, 0, 1, 2, 0, 2, 1, 0, 1, 1, 0, 0]\n",
      "[1, 0, 0, 0, 1, 0, 0, 0, 0, 0, 0, 1, 0, 0, 0, 2, 0, 0, 0, 0, 0, 0, 0, 0, 0, 0]\n"
     ]
    }
   ],
   "source": [
    "#answer-:\n",
    "def frequencies(words):\n",
    "    count=0\n",
    "    letters='abcdefghijklmnopqrstuvwxyz'\n",
    "    newlst=[]\n",
    "    for i in letters:\n",
    "        for j in words:\n",
    "            if i==j:\n",
    "                count=count+1\n",
    "        newlst.append(count)\n",
    "        count=0\n",
    "    print(newlst)\n",
    "frequencies('The quick red fox got bored and went home.')\n",
    "frequencies('apple')\n"
   ]
  },
  {
   "cell_type": "code",
   "execution_count": null,
   "id": "f190d74b",
   "metadata": {},
   "outputs": [],
   "source": []
  }
 ],
 "metadata": {
  "kernelspec": {
   "display_name": ".NET (C#)",
   "language": "C#",
   "name": ".net-csharp"
  },
  "language_info": {
   "file_extension": ".cs",
   "mimetype": "text/x-csharp",
   "name": "C#",
   "pygments_lexer": "csharp",
   "version": "9.0"
  }
 },
 "nbformat": 4,
 "nbformat_minor": 5
}
